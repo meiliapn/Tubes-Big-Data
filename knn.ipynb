{
 "cells": [
  {
   "cell_type": "code",
   "execution_count": 1,
   "metadata": {},
   "outputs": [],
   "source": [
    "import pandas as pd\n",
    "import matplotlib.pyplot as plt\n",
    "import re\n",
    "import string\n",
    "import numpy as np\n",
    "from sklearn.neighbors import KNeighborsClassifier\n",
    "from sklearn.model_selection import train_test_split\n",
    "from sklearn.metrics import classification_report\n",
    "from sklearn.metrics import accuracy_score\n",
    "from sklearn.feature_extraction.text import CountVectorizer\n",
    "from sklearn.feature_extraction.text import TfidfVectorizer\n",
    "from sklearn.metrics import confusion_matrix\n",
    "from sklearn import metrics\n",
    "from Sastrawi.StopWordRemover.StopWordRemoverFactory import StopWordRemoverFactory"
   ]
  },
  {
   "cell_type": "code",
   "execution_count": 2,
   "metadata": {},
   "outputs": [],
   "source": [
    "df = pd.read_csv('Dataset Twitter Fix - Indonesian Sentiment Twitter Dataset Labeled (1).csv')\n",
    "df = df[['sentimen', 'Tweet']]\n",
    "df = df.dropna()\n",
    "df['sentimen'] = df['sentimen'].astype(int)\n"
   ]
  },
  {
   "cell_type": "code",
   "execution_count": 3,
   "metadata": {},
   "outputs": [],
   "source": [
    "# Modifieng Dataset\n",
    "df = df[df['sentimen'] != 3]\n",
    "df = df[df['sentimen'] != 4]\n",
    "df = df[df['sentimen'] != 5]\n",
    "df = df[df['sentimen'] != 6]\n",
    "df = df[df['sentimen'] != 0]\n",
    "df['sentimen'][df['sentimen'] == 2] = 0\n",
    "\n"
   ]
  },
  {
   "cell_type": "code",
   "execution_count": 4,
   "metadata": {},
   "outputs": [
    {
     "data": {
      "text/html": [
       "<div>\n",
       "<style scoped>\n",
       "    .dataframe tbody tr th:only-of-type {\n",
       "        vertical-align: middle;\n",
       "    }\n",
       "\n",
       "    .dataframe tbody tr th {\n",
       "        vertical-align: top;\n",
       "    }\n",
       "\n",
       "    .dataframe thead th {\n",
       "        text-align: right;\n",
       "    }\n",
       "</style>\n",
       "<table border=\"1\" class=\"dataframe\">\n",
       "  <thead>\n",
       "    <tr style=\"text-align: right;\">\n",
       "      <th></th>\n",
       "      <th>sentimen</th>\n",
       "      <th>Tweet</th>\n",
       "    </tr>\n",
       "  </thead>\n",
       "  <tbody>\n",
       "    <tr>\n",
       "      <th>5327</th>\n",
       "      <td>1</td>\n",
       "      <td>doa rezeki tak putus inna haa zaa larizquna ma...</td>\n",
       "    </tr>\n",
       "    <tr>\n",
       "      <th>5328</th>\n",
       "      <td>1</td>\n",
       "      <td>makasih loh ntar kita bagi hasil aku 99 9 sisa...</td>\n",
       "    </tr>\n",
       "    <tr>\n",
       "      <th>5329</th>\n",
       "      <td>1</td>\n",
       "      <td>ya aku akan menjadi satu satunya bukan nomor s...</td>\n",
       "    </tr>\n",
       "    <tr>\n",
       "      <th>5330</th>\n",
       "      <td>1</td>\n",
       "      <td>i dont know why but these zikir sangat membant...</td>\n",
       "    </tr>\n",
       "    <tr>\n",
       "      <th>5331</th>\n",
       "      <td>1</td>\n",
       "      <td>aah kamu aja mas aku lebih suka diayomi</td>\n",
       "    </tr>\n",
       "    <tr>\n",
       "      <th>...</th>\n",
       "      <td>...</td>\n",
       "      <td>...</td>\n",
       "    </tr>\n",
       "    <tr>\n",
       "      <th>12602</th>\n",
       "      <td>0</td>\n",
       "      <td>tp gue gak ngerti sh maksudnya apa wkwk</td>\n",
       "    </tr>\n",
       "    <tr>\n",
       "      <th>12603</th>\n",
       "      <td>0</td>\n",
       "      <td>aku ingatkan gagal tadbir negara dengan elok j...</td>\n",
       "    </tr>\n",
       "    <tr>\n",
       "      <th>12604</th>\n",
       "      <td>0</td>\n",
       "      <td>kalo kamu lagi dimana mana dan itu bukan daera...</td>\n",
       "    </tr>\n",
       "    <tr>\n",
       "      <th>12606</th>\n",
       "      <td>0</td>\n",
       "      <td>biasalah tu perempuan kena berjaga jaga muka m...</td>\n",
       "    </tr>\n",
       "    <tr>\n",
       "      <th>12607</th>\n",
       "      <td>0</td>\n",
       "      <td>terkadang kamu perlu membentang jarak agar tau...</td>\n",
       "    </tr>\n",
       "  </tbody>\n",
       "</table>\n",
       "<p>6980 rows × 2 columns</p>\n",
       "</div>"
      ],
      "text/plain": [
       "       sentimen                                              Tweet\n",
       "5327          1  doa rezeki tak putus inna haa zaa larizquna ma...\n",
       "5328          1  makasih loh ntar kita bagi hasil aku 99 9 sisa...\n",
       "5329          1  ya aku akan menjadi satu satunya bukan nomor s...\n",
       "5330          1  i dont know why but these zikir sangat membant...\n",
       "5331          1            aah kamu aja mas aku lebih suka diayomi\n",
       "...         ...                                                ...\n",
       "12602         0            tp gue gak ngerti sh maksudnya apa wkwk\n",
       "12603         0  aku ingatkan gagal tadbir negara dengan elok j...\n",
       "12604         0  kalo kamu lagi dimana mana dan itu bukan daera...\n",
       "12606         0  biasalah tu perempuan kena berjaga jaga muka m...\n",
       "12607         0  terkadang kamu perlu membentang jarak agar tau...\n",
       "\n",
       "[6980 rows x 2 columns]"
      ]
     },
     "execution_count": 4,
     "metadata": {},
     "output_type": "execute_result"
    }
   ],
   "source": [
    "df"
   ]
  },
  {
   "cell_type": "code",
   "execution_count": 5,
   "metadata": {},
   "outputs": [
    {
     "data": {
      "text/html": [
       "<div>\n",
       "<style scoped>\n",
       "    .dataframe tbody tr th:only-of-type {\n",
       "        vertical-align: middle;\n",
       "    }\n",
       "\n",
       "    .dataframe tbody tr th {\n",
       "        vertical-align: top;\n",
       "    }\n",
       "\n",
       "    .dataframe thead th {\n",
       "        text-align: right;\n",
       "    }\n",
       "</style>\n",
       "<table border=\"1\" class=\"dataframe\">\n",
       "  <thead>\n",
       "    <tr style=\"text-align: right;\">\n",
       "      <th></th>\n",
       "      <th>sentimen</th>\n",
       "      <th>Tweet</th>\n",
       "    </tr>\n",
       "  </thead>\n",
       "  <tbody>\n",
       "    <tr>\n",
       "      <th>5327</th>\n",
       "      <td>1</td>\n",
       "      <td>doa rezeki tak putus inna haa zaa larizquna ma...</td>\n",
       "    </tr>\n",
       "    <tr>\n",
       "      <th>5328</th>\n",
       "      <td>1</td>\n",
       "      <td>makasih loh ntar kita bagi hasil aku 99 9 sisa...</td>\n",
       "    </tr>\n",
       "    <tr>\n",
       "      <th>5329</th>\n",
       "      <td>1</td>\n",
       "      <td>ya aku akan menjadi satu satunya bukan nomor s...</td>\n",
       "    </tr>\n",
       "    <tr>\n",
       "      <th>5330</th>\n",
       "      <td>1</td>\n",
       "      <td>i dont know why but these zikir sangat membant...</td>\n",
       "    </tr>\n",
       "    <tr>\n",
       "      <th>5331</th>\n",
       "      <td>1</td>\n",
       "      <td>aah kamu aja mas aku lebih suka diayomi</td>\n",
       "    </tr>\n",
       "    <tr>\n",
       "      <th>...</th>\n",
       "      <td>...</td>\n",
       "      <td>...</td>\n",
       "    </tr>\n",
       "    <tr>\n",
       "      <th>12602</th>\n",
       "      <td>0</td>\n",
       "      <td>tp gue gak ngerti sh maksudnya apa wkwk</td>\n",
       "    </tr>\n",
       "    <tr>\n",
       "      <th>12603</th>\n",
       "      <td>0</td>\n",
       "      <td>aku ingatkan gagal tadbir negara dengan elok j...</td>\n",
       "    </tr>\n",
       "    <tr>\n",
       "      <th>12604</th>\n",
       "      <td>0</td>\n",
       "      <td>kalo kamu lagi dimana mana dan itu bukan daera...</td>\n",
       "    </tr>\n",
       "    <tr>\n",
       "      <th>12606</th>\n",
       "      <td>0</td>\n",
       "      <td>biasalah tu perempuan kena berjaga jaga muka m...</td>\n",
       "    </tr>\n",
       "    <tr>\n",
       "      <th>12607</th>\n",
       "      <td>0</td>\n",
       "      <td>terkadang kamu perlu membentang jarak agar tau...</td>\n",
       "    </tr>\n",
       "  </tbody>\n",
       "</table>\n",
       "<p>6980 rows × 2 columns</p>\n",
       "</div>"
      ],
      "text/plain": [
       "       sentimen                                              Tweet\n",
       "5327          1  doa rezeki tak putus inna haa zaa larizquna ma...\n",
       "5328          1  makasih loh ntar kita bagi hasil aku 99 9 sisa...\n",
       "5329          1  ya aku akan menjadi satu satunya bukan nomor s...\n",
       "5330          1  i dont know why but these zikir sangat membant...\n",
       "5331          1            aah kamu aja mas aku lebih suka diayomi\n",
       "...         ...                                                ...\n",
       "12602         0            tp gue gak ngerti sh maksudnya apa wkwk\n",
       "12603         0  aku ingatkan gagal tadbir negara dengan elok j...\n",
       "12604         0  kalo kamu lagi dimana mana dan itu bukan daera...\n",
       "12606         0  biasalah tu perempuan kena berjaga jaga muka m...\n",
       "12607         0  terkadang kamu perlu membentang jarak agar tau...\n",
       "\n",
       "[6980 rows x 2 columns]"
      ]
     },
     "execution_count": 5,
     "metadata": {},
     "output_type": "execute_result"
    }
   ],
   "source": [
    "df"
   ]
  },
  {
   "cell_type": "code",
   "execution_count": 6,
   "metadata": {},
   "outputs": [
    {
     "data": {
      "text/plain": [
       "0    4188\n",
       "1    2792\n",
       "Name: sentimen, dtype: int64"
      ]
     },
     "execution_count": 6,
     "metadata": {},
     "output_type": "execute_result"
    }
   ],
   "source": [
    "df['sentimen'].value_counts()"
   ]
  },
  {
   "cell_type": "code",
   "execution_count": 7,
   "metadata": {},
   "outputs": [
    {
     "name": "stdout",
     "output_type": "stream",
     "text": [
      "['yang', 'untuk', 'pada', 'ke', 'para', 'namun', 'menurut', 'antara', 'dia', 'dua', 'ia', 'seperti', 'jika', 'jika', 'sehingga', 'kembali', 'dan', 'tidak', 'ini', 'karena', 'kepada', 'oleh', 'saat', 'harus', 'sementara', 'setelah', 'belum', 'kami', 'sekitar', 'bagi', 'serta', 'di', 'dari', 'telah', 'sebagai', 'masih', 'hal', 'ketika', 'adalah', 'itu', 'dalam', 'bisa', 'bahwa', 'atau', 'hanya', 'kita', 'dengan', 'akan', 'juga', 'ada', 'mereka', 'sudah', 'saya', 'terhadap', 'secara', 'agar', 'lain', 'anda', 'begitu', 'mengapa', 'kenapa', 'yaitu', 'yakni', 'daripada', 'itulah', 'lagi', 'maka', 'tentang', 'demi', 'dimana', 'kemana', 'pula', 'sambil', 'sebelum', 'sesudah', 'supaya', 'guna', 'kah', 'pun', 'sampai', 'sedangkan', 'selagi', 'sementara', 'tetapi', 'apakah', 'kecuali', 'sebab', 'selain', 'seolah', 'seraya', 'seterusnya', 'tanpa', 'agak', 'boleh', 'dapat', 'dsb', 'dst', 'dll', 'dahulu', 'dulunya', 'anu', 'demikian', 'tapi', 'ingin', 'juga', 'nggak', 'mari', 'nanti', 'melainkan', 'oh', 'ok', 'seharusnya', 'sebetulnya', 'setiap', 'setidaknya', 'sesuatu', 'pasti', 'saja', 'toh', 'ya', 'walau', 'tolong', 'tentu', 'amat', 'apalagi', 'bagaimanapun']\n"
     ]
    }
   ],
   "source": [
    "# Stop Words dari Sastrawi\n",
    "\n",
    "stop_word_nya = StopWordRemoverFactory().get_stop_words()\n",
    "print(stop_word_nya)"
   ]
  },
  {
   "cell_type": "code",
   "execution_count": 8,
   "metadata": {},
   "outputs": [],
   "source": [
    "def preprocess_text(review):\n",
    "    review = re.sub(r\"http\\S+\", \"\", review)             # menghapus link website\n",
    "    review = re.sub(\"\\S*\\d\\S*\", \"\", review).strip()     # proses menghapus nomor\n",
    "    review = re.sub('[^A-Za-z]+', ' ', review)          # proses menghapus selain huruf\n",
    "    review = review.translate(str.maketrans(\"\",\"\",string.punctuation)) #menghapus tanda baca\n",
    "    review = review.lower()                             # proses case folding\n",
    "    review = [word for word in review.split(\" \") if not word in stop_word_nya] # proses stop word\n",
    "    review = \" \".join(review)\n",
    "    review.strip()\n",
    "    return review\n",
    "\n",
    "df['Tweet'] = df['Tweet'].apply(lambda x: preprocess_text(x))"
   ]
  },
  {
   "cell_type": "code",
   "execution_count": 9,
   "metadata": {},
   "outputs": [
    {
     "data": {
      "text/plain": [
       "5327     doa rezeki tak putus inna haa zaa larizquna ma...\n",
       "5328          makasih loh ntar hasil aku sisanya buat kamu\n",
       "5329     aku menjadi satu satunya bukan nomor satu satu...\n",
       "5330     i dont know why but these zikir sangat membant...\n",
       "5331               aah kamu aja mas aku lebih suka diayomi\n",
       "                               ...                        \n",
       "12602              tp gue gak ngerti sh maksudnya apa wkwk\n",
       "12603    aku ingatkan gagal tadbir negara elok je salah...\n",
       "12604    kalo kamu mana bukan daerahmu coba buat ngehar...\n",
       "12606    biasalah tu perempuan kena berjaga jaga muka m...\n",
       "12607    terkadang kamu perlu membentang jarak tau arti...\n",
       "Name: Tweet, Length: 6980, dtype: object"
      ]
     },
     "execution_count": 9,
     "metadata": {},
     "output_type": "execute_result"
    }
   ],
   "source": [
    "df['Tweet']"
   ]
  },
  {
   "cell_type": "code",
   "execution_count": 10,
   "metadata": {},
   "outputs": [],
   "source": [
    "# Vectorize 'Text Tweet'\n",
    "vectorizer = TfidfVectorizer()\n",
    "X = vectorizer.fit_transform(df['Tweet'])"
   ]
  },
  {
   "cell_type": "code",
   "execution_count": 11,
   "metadata": {},
   "outputs": [],
   "source": [
    "# Take 'Sentiment' as y\n",
    "y = df['sentimen']"
   ]
  },
  {
   "cell_type": "code",
   "execution_count": 12,
   "metadata": {},
   "outputs": [
    {
     "name": "stdout",
     "output_type": "stream",
     "text": [
      "Accuracy:  0.7564469914040115\n",
      "0.1\n",
      "Accuracy:  0.75\n",
      "0.2\n",
      "Accuracy:  0.7360381861575179\n",
      "0.30000000000000004\n",
      "Accuracy:  0.7295845272206304\n",
      "0.4\n",
      "Accuracy:  0.7429799426934097\n",
      "0.5\n",
      "Accuracy:  0.7340654094055861\n",
      "0.6000000000000001\n",
      "Accuracy:  0.7104563126662574\n",
      "0.7000000000000001\n",
      "Accuracy:  0.703080229226361\n",
      "0.8\n",
      "Accuracy:  0.6787647246099968\n",
      "0.9\n"
     ]
    }
   ],
   "source": [
    "# Split the data into training and testing sets 9:1\n",
    "\n",
    "\n",
    "for i in range(1, 10):\n",
    "    X_train, X_test, y_train, y_test = train_test_split(X, y, test_size=0.1*i, random_state=0)\n",
    "    model = KNeighborsClassifier(n_neighbors=11)\n",
    "    model.fit(X_train, y_train)\n",
    "    y_pred = model.predict(X_test)\n",
    "    print(\"Accuracy: \", accuracy_score(y_test, y_pred))\n",
    "    print(i*0.1)\n",
    "\n",
    "    "
   ]
  }
 ],
 "metadata": {
  "kernelspec": {
   "display_name": "Python 3",
   "language": "python",
   "name": "python3"
  },
  "language_info": {
   "codemirror_mode": {
    "name": "ipython",
    "version": 3
   },
   "file_extension": ".py",
   "mimetype": "text/x-python",
   "name": "python",
   "nbconvert_exporter": "python",
   "pygments_lexer": "ipython3",
   "version": "3.7.9"
  }
 },
 "nbformat": 4,
 "nbformat_minor": 2
}
